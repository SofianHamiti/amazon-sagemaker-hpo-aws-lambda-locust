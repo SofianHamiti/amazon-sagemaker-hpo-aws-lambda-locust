{
 "cells": [
  {
   "cell_type": "code",
   "execution_count": null,
   "id": "accompanied-services",
   "metadata": {},
   "outputs": [],
   "source": [
    "# !pip install -q sagemaker==2.33.0"
   ]
  },
  {
   "cell_type": "code",
   "execution_count": null,
   "id": "indonesian-paintball",
   "metadata": {},
   "outputs": [],
   "source": [
    "import sagemaker\n",
    "from sagemaker.pytorch import PyTorch as PyTorchEstimator\n",
    "\n",
    "sagemaker_session = sagemaker.Session()\n",
    "role = sagemaker.get_execution_role()\n",
    "region = sagemaker_session.boto_region_name\n",
    "base_name = 'lambda-tuning'\n",
    "container = '<your-lambda-container-image-uri'\n",
    "model_s3_uri = '<your-model-binary-s3-path>'"
   ]
  },
  {
   "cell_type": "code",
   "execution_count": null,
   "id": "adopted-subcommittee",
   "metadata": {},
   "outputs": [],
   "source": [
    "# Dictionary of all hyperparameters and variable we want to pass to our training image:\n",
    "hyperparameters={\n",
    "    'container': container,\n",
    "    'model_s3_uri': model_s3_uri,\n",
    "    'lambda_memory': 1024,\n",
    "    'role': role,\n",
    "    'region': region\n",
    "}\n",
    "\n",
    "# We want to capture the following metric: this would be useful for hyperparameter tuning:\n",
    "metric_definitions = [\n",
    "    {\n",
    "        'Name': 'aggregate_score',\n",
    "        'Regex': 'AGGREGATE SCORE: ([0-9]+)'\n",
    "    }\n",
    "]\n",
    "\n",
    "# We define the Estimator object with the provided pytorch container):\n",
    "estimator = PyTorchEstimator(\n",
    "    entry_point='entry_point.py',\n",
    "    source_dir='source_dir',\n",
    "    hyperparameters=hyperparameters,\n",
    "    metric_definitions=metric_definitions,\n",
    "    role=role,\n",
    "    instance_count=1,\n",
    "    instance_type='local',\n",
    "    framework_version='1.8.0',\n",
    "    py_version='py3',\n",
    "    base_job_name=base_name,\n",
    "    disable_profiler=True\n",
    ")"
   ]
  },
  {
   "cell_type": "code",
   "execution_count": null,
   "id": "european-recruitment",
   "metadata": {
    "scrolled": true
   },
   "outputs": [],
   "source": [
    "estimator.fit()"
   ]
  },
  {
   "cell_type": "code",
   "execution_count": null,
   "id": "british-publicity",
   "metadata": {},
   "outputs": [],
   "source": []
  }
 ],
 "metadata": {
  "kernelspec": {
   "display_name": "conda_python3",
   "language": "python",
   "name": "conda_python3"
  },
  "language_info": {
   "codemirror_mode": {
    "name": "ipython",
    "version": 3
   },
   "file_extension": ".py",
   "mimetype": "text/x-python",
   "name": "python",
   "nbconvert_exporter": "python",
   "pygments_lexer": "ipython3",
   "version": "3.6.13"
  }
 },
 "nbformat": 4,
 "nbformat_minor": 5
}